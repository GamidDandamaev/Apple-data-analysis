{
 "cells": [
  {
   "cell_type": "code",
   "execution_count": 1,
   "id": "f06c41b3",
   "metadata": {},
   "outputs": [
    {
     "name": "stderr",
     "output_type": "stream",
     "text": [
      "C:\\Users\\dgami\\anaconda3\\lib\\site-packages\\scipy\\__init__.py:138: UserWarning: A NumPy version >=1.16.5 and <1.23.0 is required for this version of SciPy (detected version 1.24.4)\n",
      "  warnings.warn(f\"A NumPy version >={np_minversion} and <{np_maxversion} is required for this version of \"\n"
     ]
    }
   ],
   "source": [
    "import pandas as pd\n",
    "import numpy as np\n",
    "import yfinance as yf\n",
    "import matplotlib.pyplot as plt\n",
    "from scipy.integrate import quad\n",
    "from math import sqrt, pi\n",
    "from scipy.stats import chi2\n",
    "from scipy.stats import shapiro\n",
    "import scipy.stats as stats"
   ]
  },
  {
   "cell_type": "markdown",
   "id": "8bfc6469",
   "metadata": {},
   "source": [
    "# Оглавление\n",
    "* [Выгружаем данные](#chapter1)\n",
    "    * [Выгружаем данные Apple за последние 3 года ](#section_1_1)\n",
    "* [Анализ дохоностей](#chapter2)\n",
    "    * [Логарифмическая доходность ](#section_2_1)\n",
    "    * [Гистограмма доходностей ](#section_2_2)\n",
    "    * [Делаем BoxPlot  ](#section_2_3)\n",
    "        * [Изучаем данные BoxPlot подробнее](#sub_section_2_3_1)\n",
    "* [Проверка нормальности](#chapter3)\n",
    "    * [Тест на нормальность распеределения данных через критерий Пирсона ](#section_3_1)\n",
    "    * [Проверка нормальности с помощью Шапиро-Уилка ](#section_3_2)\n",
    "    * [QQ-plot ](#section_3_3)\n",
    "    \n",
    "    "
   ]
  },
  {
   "cell_type": "markdown",
   "id": "cf5e37d5",
   "metadata": {},
   "source": [
    "<div style=\"\n",
    "    background: linear-gradient(135deg, #f5f7fa 0%, #c3cfe2 100%);\n",
    "    padding: 20px;\n",
    "    border-radius: 10px;\n",
    "    box-shadow: 0 4px 8px rgba(0,0,0,0.1);\n",
    "    border-left: 5px solid #007aff;\n",
    "    margin: 15px 0;\n",
    "\">\n",
    "    <h2 style=\"\n",
    "        color: #2c3e50;\n",
    "        margin-top: 0;\n",
    "        font-family: 'Helvetica Neue', Arial, sans-serif;\n",
    "        text-align: center;\n",
    "    \">\n",
    "        <i class=\"fa fa-apple\" style=\"color: #007aff; margin-right: 10px;\"></i>\n",
    "        Цель проекта\n",
    "    </h2>\n",
    "    <p style=\"\n",
    "        color: #34495e;\n",
    "        font-size: 18px;\n",
    "        line-height: 1.6;\n",
    "        text-align: center;\n",
    "        font-weight: 500;\n",
    "    \">\n",
    "        Анализ исторических доходностей Apple\n",
    "    </p>\n",
    "    <div style=\"\n",
    "        display: flex;\n",
    "        justify-content: space-around;\n",
    "        margin-top: 15px;\n",
    "    \">\n",
    "        <span style=\"\n",
    "            background-color: #e3f2fd;\n",
    "            padding: 5px 10px;\n",
    "            border-radius: 15px;\n",
    "            color: #007aff;\n",
    "            font-size: 14px;\n",
    "        \">\n",
    "            <i class=\"fa fa-line-chart\"></i> Анализ данных\n",
    "        </span>\n",
    "        <span style=\"\n",
    "            background-color: #e8f5e9;\n",
    "            padding: 5px 10px;\n",
    "            border-radius: 15px;\n",
    "            color: #4caf50;\n",
    "            font-size: 14px;\n",
    "        \">\n",
    "            <i class=\"fa fa-calendar\"></i> Исторические данные\n",
    "        </span>\n",
    "        <span style=\"\n",
    "            background-color: #f3e5f5;\n",
    "            padding: 5px 10px;\n",
    "            border-radius: 15px;\n",
    "            color: #9c27b0;\n",
    "            font-size: 14px;\n",
    "        \">\n",
    "            <i class=\"fa fa-apple\"></i> Apple Inc.\n",
    "        </span>\n",
    "    </div>\n",
    "</div>"
   ]
  },
  {
   "cell_type": "markdown",
   "id": "0e2b1b88",
   "metadata": {},
   "source": [
    "# Выгружаем данные  <a id=\"chapter1\"></a>"
   ]
  },
  {
   "cell_type": "markdown",
   "id": "323d1ca8",
   "metadata": {},
   "source": [
    "## Выгружаем данные Apple за последние 3 года <a id=\"section_1_1\"></a>"
   ]
  },
  {
   "cell_type": "code",
   "execution_count": 2,
   "id": "df8970a0",
   "metadata": {},
   "outputs": [
    {
     "name": "stderr",
     "output_type": "stream",
     "text": [
      "<ipython-input-2-eba5d563e55d>:2: FutureWarning: YF.download() has changed argument auto_adjust default to True\n",
      "  data = yf.download('AAPL','2022-01-01','2025-06-30')\n",
      "[*********************100%***********************]  1 of 1 completed\n"
     ]
    },
    {
     "data": {
      "text/html": [
       "<div>\n",
       "<style scoped>\n",
       "    .dataframe tbody tr th:only-of-type {\n",
       "        vertical-align: middle;\n",
       "    }\n",
       "\n",
       "    .dataframe tbody tr th {\n",
       "        vertical-align: top;\n",
       "    }\n",
       "\n",
       "    .dataframe thead tr th {\n",
       "        text-align: left;\n",
       "    }\n",
       "\n",
       "    .dataframe thead tr:last-of-type th {\n",
       "        text-align: right;\n",
       "    }\n",
       "</style>\n",
       "<table border=\"1\" class=\"dataframe\">\n",
       "  <thead>\n",
       "    <tr>\n",
       "      <th>Price</th>\n",
       "      <th>Close</th>\n",
       "      <th>High</th>\n",
       "      <th>Low</th>\n",
       "      <th>Open</th>\n",
       "      <th>Volume</th>\n",
       "    </tr>\n",
       "    <tr>\n",
       "      <th>Ticker</th>\n",
       "      <th>AAPL</th>\n",
       "      <th>AAPL</th>\n",
       "      <th>AAPL</th>\n",
       "      <th>AAPL</th>\n",
       "      <th>AAPL</th>\n",
       "    </tr>\n",
       "    <tr>\n",
       "      <th>Date</th>\n",
       "      <th></th>\n",
       "      <th></th>\n",
       "      <th></th>\n",
       "      <th></th>\n",
       "      <th></th>\n",
       "    </tr>\n",
       "  </thead>\n",
       "  <tbody>\n",
       "    <tr>\n",
       "      <th>2022-01-03</th>\n",
       "      <td>178.645645</td>\n",
       "      <td>179.499574</td>\n",
       "      <td>174.425140</td>\n",
       "      <td>174.542917</td>\n",
       "      <td>104487900</td>\n",
       "    </tr>\n",
       "    <tr>\n",
       "      <th>2022-01-04</th>\n",
       "      <td>176.378372</td>\n",
       "      <td>179.558489</td>\n",
       "      <td>175.809091</td>\n",
       "      <td>179.254221</td>\n",
       "      <td>99310400</td>\n",
       "    </tr>\n",
       "    <tr>\n",
       "      <th>2022-01-05</th>\n",
       "      <td>171.686722</td>\n",
       "      <td>176.839679</td>\n",
       "      <td>171.411899</td>\n",
       "      <td>176.290033</td>\n",
       "      <td>94537600</td>\n",
       "    </tr>\n",
       "    <tr>\n",
       "      <th>2022-01-06</th>\n",
       "      <td>168.820679</td>\n",
       "      <td>172.059683</td>\n",
       "      <td>168.467333</td>\n",
       "      <td>169.507737</td>\n",
       "      <td>96904000</td>\n",
       "    </tr>\n",
       "    <tr>\n",
       "      <th>2022-01-07</th>\n",
       "      <td>168.987564</td>\n",
       "      <td>170.921151</td>\n",
       "      <td>167.868637</td>\n",
       "      <td>169.694257</td>\n",
       "      <td>86709100</td>\n",
       "    </tr>\n",
       "  </tbody>\n",
       "</table>\n",
       "</div>"
      ],
      "text/plain": [
       "Price            Close        High         Low        Open     Volume\n",
       "Ticker            AAPL        AAPL        AAPL        AAPL       AAPL\n",
       "Date                                                                 \n",
       "2022-01-03  178.645645  179.499574  174.425140  174.542917  104487900\n",
       "2022-01-04  176.378372  179.558489  175.809091  179.254221   99310400\n",
       "2022-01-05  171.686722  176.839679  171.411899  176.290033   94537600\n",
       "2022-01-06  168.820679  172.059683  168.467333  169.507737   96904000\n",
       "2022-01-07  168.987564  170.921151  167.868637  169.694257   86709100"
      ]
     },
     "execution_count": 2,
     "metadata": {},
     "output_type": "execute_result"
    }
   ],
   "source": [
    "# Get the data of the stock AAPL\n",
    "data = yf.download('AAPL','2022-01-01','2025-06-30')\n",
    "data.head()"
   ]
  },
  {
   "cell_type": "code",
   "execution_count": 3,
   "id": "0b418eb4",
   "metadata": {},
   "outputs": [],
   "source": [
    "data.columns = data.columns.droplevel(1)"
   ]
  },
  {
   "cell_type": "code",
   "execution_count": 4,
   "id": "0efa1736",
   "metadata": {},
   "outputs": [],
   "source": [
    "data = data[['Close']]"
   ]
  },
  {
   "cell_type": "markdown",
   "id": "dafe015f",
   "metadata": {},
   "source": [
    "# Анализ дохоностей <a id=\"chapter2\"></a>"
   ]
  },
  {
   "cell_type": "markdown",
   "id": "4a1d3861",
   "metadata": {},
   "source": [
    "## Логарифмическая доходность <a id=\"section_2_1\"></a>"
   ]
  },
  {
   "cell_type": "code",
   "execution_count": 5,
   "id": "4c3ce22d",
   "metadata": {},
   "outputs": [
    {
     "data": {
      "text/html": [
       "<div>\n",
       "<style scoped>\n",
       "    .dataframe tbody tr th:only-of-type {\n",
       "        vertical-align: middle;\n",
       "    }\n",
       "\n",
       "    .dataframe tbody tr th {\n",
       "        vertical-align: top;\n",
       "    }\n",
       "\n",
       "    .dataframe thead th {\n",
       "        text-align: right;\n",
       "    }\n",
       "</style>\n",
       "<table border=\"1\" class=\"dataframe\">\n",
       "  <thead>\n",
       "    <tr style=\"text-align: right;\">\n",
       "      <th>Price</th>\n",
       "      <th>Close</th>\n",
       "      <th>Returns</th>\n",
       "    </tr>\n",
       "    <tr>\n",
       "      <th>Date</th>\n",
       "      <th></th>\n",
       "      <th></th>\n",
       "    </tr>\n",
       "  </thead>\n",
       "  <tbody>\n",
       "    <tr>\n",
       "      <th>2022-01-03</th>\n",
       "      <td>178.645645</td>\n",
       "      <td>NaN</td>\n",
       "    </tr>\n",
       "    <tr>\n",
       "      <th>2022-01-04</th>\n",
       "      <td>176.378372</td>\n",
       "      <td>-0.012773</td>\n",
       "    </tr>\n",
       "    <tr>\n",
       "      <th>2022-01-05</th>\n",
       "      <td>171.686722</td>\n",
       "      <td>-0.026960</td>\n",
       "    </tr>\n",
       "    <tr>\n",
       "      <th>2022-01-06</th>\n",
       "      <td>168.820679</td>\n",
       "      <td>-0.016834</td>\n",
       "    </tr>\n",
       "    <tr>\n",
       "      <th>2022-01-07</th>\n",
       "      <td>168.987564</td>\n",
       "      <td>0.000988</td>\n",
       "    </tr>\n",
       "    <tr>\n",
       "      <th>...</th>\n",
       "      <td>...</td>\n",
       "      <td>...</td>\n",
       "    </tr>\n",
       "    <tr>\n",
       "      <th>2025-06-23</th>\n",
       "      <td>201.500000</td>\n",
       "      <td>0.002484</td>\n",
       "    </tr>\n",
       "    <tr>\n",
       "      <th>2025-06-24</th>\n",
       "      <td>200.300003</td>\n",
       "      <td>-0.005973</td>\n",
       "    </tr>\n",
       "    <tr>\n",
       "      <th>2025-06-25</th>\n",
       "      <td>201.559998</td>\n",
       "      <td>0.006271</td>\n",
       "    </tr>\n",
       "    <tr>\n",
       "      <th>2025-06-26</th>\n",
       "      <td>201.000000</td>\n",
       "      <td>-0.002782</td>\n",
       "    </tr>\n",
       "    <tr>\n",
       "      <th>2025-06-27</th>\n",
       "      <td>201.080002</td>\n",
       "      <td>0.000398</td>\n",
       "    </tr>\n",
       "  </tbody>\n",
       "</table>\n",
       "<p>874 rows × 2 columns</p>\n",
       "</div>"
      ],
      "text/plain": [
       "Price            Close   Returns\n",
       "Date                            \n",
       "2022-01-03  178.645645       NaN\n",
       "2022-01-04  176.378372 -0.012773\n",
       "2022-01-05  171.686722 -0.026960\n",
       "2022-01-06  168.820679 -0.016834\n",
       "2022-01-07  168.987564  0.000988\n",
       "...                ...       ...\n",
       "2025-06-23  201.500000  0.002484\n",
       "2025-06-24  200.300003 -0.005973\n",
       "2025-06-25  201.559998  0.006271\n",
       "2025-06-26  201.000000 -0.002782\n",
       "2025-06-27  201.080002  0.000398\n",
       "\n",
       "[874 rows x 2 columns]"
      ]
     },
     "execution_count": 5,
     "metadata": {},
     "output_type": "execute_result"
    }
   ],
   "source": [
    "data['Returns'] = np.log(data['Close']) - np.log(data['Close'].shift(1))\n",
    "data"
   ]
  },
  {
   "cell_type": "markdown",
   "id": "d7abf574",
   "metadata": {},
   "source": [
    "## Гистограмма доходностей <a id=\"section_2_2\"></a>"
   ]
  },
  {
   "cell_type": "code",
   "execution_count": 6,
   "id": "fe149ede",
   "metadata": {},
   "outputs": [
    {
     "data": {
      "image/png": "[encoded data removed]",
      "text/plain": [
       "<Figure size 432x288 with 1 Axes>"
      ]
     },
     "metadata": {
      "needs_background": "light"
     },
     "output_type": "display_data"
    }
   ],
   "source": [
    "plt.hist(data['Returns'].dropna(), bins=20, color='blue', edgecolor='white')\n",
    "\n",
    "plt.title('AAPL Yield Histogram')  \n",
    "plt.xlabel('Returns')                 \n",
    "plt.ylabel('Days')             \n",
    "\n",
    "plt.show()"
   ]
  },
  {
   "cell_type": "markdown",
   "id": "e49b1b96",
   "metadata": {},
   "source": [
    "## Делаем BoxPlot <a id=\"section_2_3\"></a>"
   ]
  },
  {
   "cell_type": "code",
   "execution_count": 7,
   "id": "10962681",
   "metadata": {},
   "outputs": [
    {
     "data": {
      "image/png": "[encoded data removed]",
      "text/plain": [
       "<Figure size 432x288 with 1 Axes>"
      ]
     },
     "metadata": {
      "needs_background": "light"
     },
     "output_type": "display_data"
    }
   ],
   "source": [
    "plt.boxplot(data['Returns'].dropna(),  \n",
    "            vert=True,               \n",
    "            patch_artist=True,\n",
    "            boxprops=dict(facecolor='lightblue'), \n",
    "            medianprops=dict(color='red')) \n",
    "\n",
    "boxplot = plt.boxplot(data['Returns'].dropna(),  \n",
    "            vert=True,               \n",
    "            patch_artist=True,\n",
    "            boxprops=dict(facecolor='lightblue'), \n",
    "            medianprops=dict(color='red')) \n",
    "\n",
    "plt.title('Boxplot price AAPL')\n",
    "plt.ylabel('Returns')\n",
    "plt.grid(True, linestyle='--', alpha=0.3)\n",
    "\n",
    "plt.show()"
   ]
  },
  {
   "cell_type": "markdown",
   "id": "e592ea1e",
   "metadata": {},
   "source": [
    "### Изучаем данные BoxPlot подробнее <a id=\"sub_section_2_3_1\"></a> "
   ]
  },
  {
   "cell_type": "code",
   "execution_count": 8,
   "id": "ef81e95a",
   "metadata": {},
   "outputs": [
    {
     "name": "stdout",
     "output_type": "stream",
     "text": [
      "25-й квартиль (Q1): -0.0089\n",
      "75-й квартиль (Q3): 0.0097\n"
     ]
    }
   ],
   "source": [
    "q25 = data['Returns'].quantile(0.25)  \n",
    "q75 = data['Returns'].quantile(0.75)  # \n",
    "\n",
    "print(f\"25-й квартиль (Q1): {q25:.4f}\")\n",
    "print(f\"75-й квартиль (Q3): {q75:.4f}\")"
   ]
  },
  {
   "cell_type": "code",
   "execution_count": 9,
   "id": "b21a4935",
   "metadata": {},
   "outputs": [
    {
     "name": "stdout",
     "output_type": "stream",
     "text": [
      "Границы усов:\n",
      "• Нижний ус : -0.0366\n",
      "• Верхний ус : 0.0364\n"
     ]
    }
   ],
   "source": [
    "lower_whisker = boxplot['whiskers'][0].get_ydata()[1]  \n",
    "upper_whisker = boxplot['whiskers'][1].get_ydata()[1]  \n",
    "\n",
    "print(f\"Границы усов:\")\n",
    "print(f\"• Нижний ус : {lower_whisker:.4f}\")\n",
    "print(f\"• Верхний ус : {upper_whisker:.4f}\")"
   ]
  },
  {
   "cell_type": "code",
   "execution_count": 10,
   "id": "32189329",
   "metadata": {},
   "outputs": [
    {
     "name": "stdout",
     "output_type": "stream",
     "text": [
      "Процент значений между усами: 94.7%\n"
     ]
    }
   ],
   "source": [
    "between_whiskers = data['Returns'].between(lower_whisker, upper_whisker, inclusive='both')\n",
    "percentage = (between_whiskers.sum() / len(data['Returns'].dropna())) * 100\n",
    "\n",
    "print(f\"Процент значений между усами: {percentage:.1f}%\")"
   ]
  },
  {
   "cell_type": "markdown",
   "id": "7fc15706",
   "metadata": {},
   "source": [
    " По графику видно, что медиана находится около 0.<br>\n",
    " 25% квартиль: -0.0089 (25% значений<br>\n",
    " 75% квартиль: 0.0097<br>\n",
    " Нижний ус: -0.0366<br>\n",
    " Верхний ус: 0.0364<br>\n",
    " Размах: 0.073<br>\n",
    " Процент значений между усами: 94.7%"
   ]
  },
  {
   "cell_type": "markdown",
   "id": "ebee9efd",
   "metadata": {},
   "source": [
    "# Проверка нормальности <a id=\"chapter3\"></a>"
   ]
  },
  {
   "cell_type": "markdown",
   "id": "6aca29e1",
   "metadata": {},
   "source": [
    "## Тест на нормальность распеределения данных через критерий Пирсона <a id=\"section_3_1\"></a>\n"
   ]
  },
  {
   "cell_type": "code",
   "execution_count": 11,
   "id": "5aa850fb",
   "metadata": {},
   "outputs": [
    {
     "name": "stdout",
     "output_type": "stream",
     "text": [
      "Уровень значимости: α = 0.05\n",
      "Степени свободы: df = 4\n",
      "Критическое значение χ²: 9.49\n",
      "Наблюдаемое значение χ²: 510954.81\n",
      "\n",
      "Статистическое заключение:\n",
      "χ²_набл (510954.81) > χ²_крит (9.49) => Отвергаем H₀ (данные не соответствуют нормальному распределению)\n"
     ]
    }
   ],
   "source": [
    "def testPirsonNormal(alpha, data):\n",
    "    if isinstance(data, np.ndarray):\n",
    "        data = pd.DataFrame(data, columns=[\"Values\"]).dropna()\n",
    "    if isinstance(data, pd.Series):\n",
    "        data = data.to_frame()\n",
    "        data.columns = [\"Values\"]\n",
    "\n",
    "    n = len(data[\"Values\"].dropna())  # размер выборки\n",
    "    x = data[\"Values\"].mean()  # среднее выборочное\n",
    "    std = data[\"Values\"].std()\n",
    "\n",
    "    def phi(z):\n",
    "        \"\"\"\n",
    "        Вычисляет Φ(z) - интеграл от 0 до z стандартного\n",
    "        нормального распределения.\n",
    "        \"\"\"\n",
    "\n",
    "        def integrand(z):\n",
    "            return np.exp(-(z**2) / 2)\n",
    "\n",
    "        integral, _ = quad(integrand, 0, z)\n",
    "        return (1 / sqrt(2 * pi)) * integral\n",
    "\n",
    "    def interval_probability(a, b, mean, std):\n",
    "        \"\"\"P(a < X < b) = Φ((b-μ)/σ) - Φ((a-μ)/σ)\"\"\"\n",
    "        return (phi((b - x) / std) - phi((a - x) / std)) * n\n",
    "\n",
    "    returns = data[\"Values\"].dropna().values\n",
    "\n",
    "    num_bins = 7\n",
    "    bin_edges = np.linspace(returns.min(), returns.max(), num_bins + 1)\n",
    "\n",
    "    probs = [\n",
    "        interval_probability(bin_edges[i], bin_edges[i + 1], x, std)\n",
    "        for i in range(num_bins)\n",
    "    ]\n",
    "\n",
    "    result_df = pd.DataFrame(\n",
    "        {\n",
    "            \"Интервал\": [\n",
    "                f\"{bin_edges[i]:.6f} — {bin_edges[i+1]:.6f}\"\n",
    "                for i in range(num_bins)\n",
    "            ],\n",
    "            \"Количество\": np.histogram(returns, bins=bin_edges)[0],\n",
    "            \"np_i\": probs,\n",
    "        }\n",
    "    )\n",
    "    result_df[\"chi_squared\"] = (\n",
    "        (result_df[\"np_i\"] - result_df[\"Количество\"]) ** 2\n",
    "    ) / result_df[\"np_i\"]\n",
    "    chi_squared_obs = result_df[\"chi_squared\"].sum()\n",
    "    alpha = alpha\n",
    "    df = num_bins - 3  # степени свободы (m - 3, где m - число интервалов)\n",
    "\n",
    "    chi_squared_critical = chi2.ppf(1 - alpha, df)\n",
    "\n",
    "    if chi_squared_obs <= chi_squared_critical:\n",
    "        conclusion = (\n",
    "            f\"χ²_набл ({chi_squared_obs:.2f}) ≤ χ²_крит \"\n",
    "            f\"({chi_squared_critical:.2f}) => \"\n",
    "            \"Нет оснований отвергнуть H₀ (данные\"\n",
    "            \"соответствуют нормальному распределению)\"\n",
    "        )\n",
    "    else:\n",
    "        conclusion = (\n",
    "            f\"χ²_набл ({chi_squared_obs:.2f}) > \"\n",
    "            f\"χ²_крит ({chi_squared_critical:.2f}) => \"\n",
    "            \"Отвергаем H₀ (данные не соответствуют нормальному распределению)\"\n",
    "        )\n",
    "\n",
    "    print(f\"Уровень значимости: α = {alpha}\")\n",
    "    print(f\"Степени свободы: df = {df}\")\n",
    "    print(f\"Критическое значение χ²: {chi_squared_critical:.2f}\")\n",
    "    print(f\"Наблюдаемое значение χ²: {chi_squared_obs:.2f}\")\n",
    "    print(\"\\nСтатистическое заключение:\")\n",
    "    print(conclusion)\n",
    "    \n",
    "    \n",
    "alpha = 0.05\n",
    "testPirsonNormal(alpha, data[\"Returns\"])"
   ]
  },
  {
   "cell_type": "markdown",
   "id": "f048af92",
   "metadata": {},
   "source": [
    "## Проверка нормальности с помощью Шапиро-Уилка <a id=\"section_3_2\"></a>"
   ]
  },
  {
   "cell_type": "code",
   "execution_count": 12,
   "id": "4a5ac11e",
   "metadata": {},
   "outputs": [
    {
     "name": "stdout",
     "output_type": "stream",
     "text": [
      "=== Критерий Шапиро-Уилка ===\n",
      "Количество наблюдений: 873\n",
      "W-статистика: 0.9428\n",
      "p-value: 0.0000\n",
      "\n",
      "Статистическое заключение:\n",
      "p-value = 0.0000 ≤ α = 0.05 ⇒ Отвергаем H₀ (данные не распределены нормально)\n"
     ]
    }
   ],
   "source": [
    "returns_2 = data['Returns'].dropna().values\n",
    "\n",
    "shapiro_test = shapiro(returns_2)\n",
    "\n",
    "alpha = 0.05\n",
    "if shapiro_test.pvalue > alpha:\n",
    "    conclusion = (f\"p-value = {shapiro_test.pvalue:.4f} > α = {alpha} ⇒ \"\n",
    "                 \"Нет оснований отвергнуть H₀ (данные распределены нормально)\")\n",
    "else:\n",
    "    conclusion = (f\"p-value = {shapiro_test.pvalue:.4f} ≤ α = {alpha} ⇒ \"\n",
    "                 \"Отвергаем H₀ (данные не распределены нормально)\")\n",
    "\n",
    "print(\"=== Критерий Шапиро-Уилка ===\")\n",
    "print(f\"Количество наблюдений: {len(returns_2)}\")\n",
    "print(f\"W-статистика: {shapiro_test.statistic:.4f}\")\n",
    "print(f\"p-value: {shapiro_test.pvalue:.4f}\")\n",
    "print(\"\\nСтатистическое заключение:\")\n",
    "print(conclusion)"
   ]
  },
  {
   "cell_type": "markdown",
   "id": "68872172",
   "metadata": {},
   "source": [
    "## QQ-plot <a id=\"section_3_3\"></a>"
   ]
  },
  {
   "cell_type": "code",
   "execution_count": 13,
   "id": "8a78820c",
   "metadata": {},
   "outputs": [
    {
     "data": {
      "text/plain": [
       "Text(0.5, 1.0, 'Q-Q график: нормальное распределение')"
      ]
     },
     "execution_count": 13,
     "metadata": {},
     "output_type": "execute_result"
    },
    {
     "data": {
      "image/png": "[encoded data removed]",
      "text/plain": [
       "<Figure size 720x432 with 1 Axes>"
      ]
     },
     "metadata": {
      "needs_background": "light"
     },
     "output_type": "display_data"
    }
   ],
   "source": [
    "returns_value_qq = data[['Returns']].dropna().to_numpy()\n",
    "\n",
    "returns_value_qq_2 = np.reshape(returns_value_qq, (873,))\n",
    "\n",
    "returns_value_qq_2\n",
    "# Q-Q график\n",
    "plt.figure(figsize=(10, 6))\n",
    "plt.subplot(1, 2, 1)\n",
    "stats.probplot(returns_value_qq_2, plot=plt)\n",
    "plt.title('Q-Q график: нормальное распределение')\n"
   ]
  }
 ],
 "metadata": {
  "kernelspec": {
   "display_name": "Python 3",
   "language": "python",
   "name": "python3"
  },
  "language_info": {
   "codemirror_mode": {
    "name": "ipython",
    "version": 3
   },
   "file_extension": ".py",
   "mimetype": "text/x-python",
   "name": "python",
   "nbconvert_exporter": "python",
   "pygments_lexer": "ipython3",
   "version": "3.8.8"
  }
 },
 "nbformat": 4,
 "nbformat_minor": 5
}
